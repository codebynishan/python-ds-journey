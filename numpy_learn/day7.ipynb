{
 "cells": [
  {
   "cell_type": "markdown",
   "id": "004ce04f",
   "metadata": {},
   "source": [
    "# Numpy exerice"
   ]
  },
  {
   "cell_type": "code",
   "execution_count": 4,
   "id": "6682783d",
   "metadata": {},
   "outputs": [],
   "source": [
    "import numpy as np"
   ]
  },
  {
   "cell_type": "markdown",
   "id": "3f2fbb76",
   "metadata": {},
   "source": [
    "## Given are 2 similar dimensional numpy arrays perform element wise addition\n",
    "\n",
    "\n",
    "[1 2 3]\n",
    "[4 5 6]\n",
    "\n",
    "[10 11 12]\n",
    "[13 14 15]"
   ]
  },
  {
   "cell_type": "code",
   "execution_count": 2,
   "id": "8328e331",
   "metadata": {},
   "outputs": [
    {
     "name": "stdout",
     "output_type": "stream",
     "text": [
      "[[11 13 15]\n",
      " [17 19 21]]\n"
     ]
    }
   ],
   "source": [
    "a = np.array([[1,2,3],[4,5,6]])\n",
    "b = np.array([[10,11,12],[13,14,15]])\n",
    "\n",
    "newarr = a + b\n",
    "print(newarr)"
   ]
  },
  {
   "cell_type": "markdown",
   "id": "e4c9dc48",
   "metadata": {},
   "source": [
    "## Multiply the following matrix with a scalar 2\n",
    "\n",
    "[1 2 3]\n",
    "[4 5 6]"
   ]
  },
  {
   "cell_type": "code",
   "execution_count": 3,
   "id": "2b4e5d6b",
   "metadata": {},
   "outputs": [
    {
     "name": "stdout",
     "output_type": "stream",
     "text": [
      "[[ 2  4  6]\n",
      " [ 8 10 12]]\n"
     ]
    }
   ],
   "source": [
    "a = np.array([[1,2,3],[4,5,6]])\n",
    "newarr = a * 2\n",
    "print(newarr)"
   ]
  },
  {
   "cell_type": "markdown",
   "id": "91555afb",
   "metadata": {},
   "source": [
    "## Create a identiy matrix of 4X4\n",
    "\n",
    "[1 0 0 0]\n",
    "[0 1 0 0]\n",
    "[0 0 1 0]\n",
    "[0 0 0 1]"
   ]
  },
  {
   "cell_type": "code",
   "execution_count": 9,
   "id": "0d085b3b",
   "metadata": {},
   "outputs": [
    {
     "name": "stdout",
     "output_type": "stream",
     "text": [
      "[[1. 0. 0. 0.]\n",
      " [0. 1. 0. 0.]\n",
      " [0. 0. 1. 0.]\n",
      " [0. 0. 0. 1.]]\n"
     ]
    }
   ],
   "source": [
    "arr = np.array([[1,0,0,0],[0,1,0,0],[0,0,1,0],[0,0,0,1]])\n",
    "I = np.eye(4)\n",
    "print(I)"
   ]
  },
  {
   "cell_type": "markdown",
   "id": "f54261d8",
   "metadata": {},
   "source": [
    "## Construct a 1D array and reshape to 3D array 3X3X shape\n",
    "\n"
   ]
  },
  {
   "cell_type": "code",
   "execution_count": 33,
   "id": "36aa9dce",
   "metadata": {},
   "outputs": [
    {
     "name": "stdout",
     "output_type": "stream",
     "text": [
      "[ 0  1  2  3  4  5  6  7  8  9 10 11 12 13 14 15 16 17 18 19 20 21 22 23\n",
      " 24 25 26]\n",
      "[[[ 0  1  2]\n",
      "  [ 3  4  5]\n",
      "  [ 6  7  8]]\n",
      "\n",
      " [[ 9 10 11]\n",
      "  [12 13 14]\n",
      "  [15 16 17]]\n",
      "\n",
      " [[18 19 20]\n",
      "  [21 22 23]\n",
      "  [24 25 26]]]\n"
     ]
    }
   ],
   "source": [
    "arr = np.array([[0,1,2],[3,4,5],[6,7,8],[9,10,11],[12,13,14],[15,16,17],[18,19,20],[21,22,23],[24,25,26]])\n",
    "newarr =arr.reshape(-1)\n",
    "print(newarr)\n",
    "\n",
    "b = arr.reshape(3,3,3)\n",
    "print(b)"
   ]
  },
  {
   "cell_type": "markdown",
   "id": "83fb39de",
   "metadata": {},
   "source": [
    "## Convert all the elements of a numpy array from float to integer datatype. Hint: use astype"
   ]
  },
  {
   "cell_type": "code",
   "execution_count": 34,
   "id": "680969c8",
   "metadata": {},
   "outputs": [
    {
     "name": "stdout",
     "output_type": "stream",
     "text": [
      "[[2 3 1]\n",
      " [4 2 1]]\n"
     ]
    }
   ],
   "source": [
    "arr = np.array([[2.5,3.8,1.5],[4.7,2.9,1.56]])\n",
    "newarr = arr.astype('i')\n",
    "print(newarr)"
   ]
  },
  {
   "cell_type": "markdown",
   "id": "f86ff1eb",
   "metadata": {},
   "source": [
    "## Convert a binary numpy array (containing only 0s and 1s) to a boolean numpy array: i.e. to True, False"
   ]
  },
  {
   "cell_type": "code",
   "execution_count": 36,
   "id": "9206fc03",
   "metadata": {},
   "outputs": [
    {
     "name": "stdout",
     "output_type": "stream",
     "text": [
      "[[ True False False]\n",
      " [ True  True  True]\n",
      " [False False False]]\n"
     ]
    }
   ],
   "source": [
    "arr = np.array([[1,0,0],[1,1,1],[0,0,0]])\n",
    "newarr =arr.astype(bool)\n",
    "print(newarr)"
   ]
  },
  {
   "cell_type": "markdown",
   "id": "efb86c33",
   "metadata": {},
   "source": [
    "## Horizontally stack the following matrix"
   ]
  },
  {
   "cell_type": "code",
   "execution_count": 43,
   "id": "3bb9435c",
   "metadata": {},
   "outputs": [
    {
     "name": "stdout",
     "output_type": "stream",
     "text": [
      "[[ 1  2  3  8  9 10]\n",
      " [ 5  6  7 11 12 13]]\n"
     ]
    }
   ],
   "source": [
    "arr1 = np.array([[[1,2,3],[5,6,7]],[[8,9,10],[11,12,13]]])\n",
    "newarr=np.hstack(arr1)\n",
    "print(newarr)"
   ]
  },
  {
   "cell_type": "markdown",
   "id": "f9ccc305",
   "metadata": {},
   "source": [
    "## Generate a sequence of numbers in the form of a numpy array from 0 to 100 with gaps of 2 numbers: Hint use np.arrange\n",
    "\n"
   ]
  },
  {
   "cell_type": "code",
   "execution_count": 44,
   "id": "7ad0e6c5",
   "metadata": {},
   "outputs": [
    {
     "name": "stdout",
     "output_type": "stream",
     "text": [
      "[  0   2   4   6   8  10  12  14  16  18  20  22  24  26  28  30  32  34\n",
      "  36  38  40  42  44  46  48  50  52  54  56  58  60  62  64  66  68  70\n",
      "  72  74  76  78  80  82  84  86  88  90  92  94  96  98 100]\n"
     ]
    }
   ],
   "source": [
    "arr= np.arange(0,101,2)\n",
    "print(arr)"
   ]
  },
  {
   "cell_type": "markdown",
   "id": "c406582e",
   "metadata": {},
   "source": [
    "## Write a NumPy program that creates a large 1D array using np.random.rand and write a function to calculate the sum of its elements using a for loop. Then, optimize it using NumPy's built-in functions."
   ]
  },
  {
   "cell_type": "code",
   "execution_count": 55,
   "id": "91dee52c",
   "metadata": {},
   "outputs": [
    {
     "name": "stdout",
     "output_type": "stream",
     "text": [
      "[0.92167939 0.90171185 0.84319358 0.73396744 0.56381046]\n",
      "0.9216793882367169\n",
      "1.8233912340902187\n",
      "2.6665848176994\n",
      "3.4005522588965436\n",
      "3.9643627226849913\n",
      "3.9643627226849913\n"
     ]
    }
   ],
   "source": [
    "arr = np.random.rand(5)\n",
    "print(arr)\n",
    "a = 0\n",
    "for i in arr:\n",
    "    a += i\n",
    "    print(a)\n",
    "    \n",
    "newarr = np.sum(arr)\n",
    "print(newarr)"
   ]
  },
  {
   "cell_type": "markdown",
   "id": "1cb99663",
   "metadata": {},
   "source": [
    "## From 2 numpy arrays, extract the indexes in which the elements in the 2 arrays match [1,2,3,4,5] and [1,3,2,4,5]"
   ]
  },
  {
   "cell_type": "code",
   "execution_count": 58,
   "id": "fa4b0f51",
   "metadata": {},
   "outputs": [
    {
     "name": "stdout",
     "output_type": "stream",
     "text": [
      "[0 3 4]\n"
     ]
    }
   ],
   "source": [
    "arr1 =np.array([1,2,3,4,5])\n",
    "arr2 = np.array([1,3,2,4,5])\n",
    "newarr = np.where (arr1==arr2)[0]\n",
    "print(newarr)"
   ]
  },
  {
   "cell_type": "markdown",
   "id": "9ef5d35e",
   "metadata": {},
   "source": [
    "## Output a sequence of equally gapped 5 numbers in the range 0 to 100 Output: [  0.  25.  50.  75. 100.]"
   ]
  },
  {
   "cell_type": "code",
   "execution_count": 61,
   "id": "a50923e8",
   "metadata": {},
   "outputs": [
    {
     "name": "stdout",
     "output_type": "stream",
     "text": [
      "[  0.  25.  50.  75. 100.]\n"
     ]
    }
   ],
   "source": [
    "arr = np.linspace(0,100,5)\n",
    "print(arr)"
   ]
  },
  {
   "cell_type": "markdown",
   "id": "17cf9b7b",
   "metadata": {},
   "source": [
    "## Output a matrix (numpy array) of dimension 2-by-3 with each and every value equal to 5"
   ]
  },
  {
   "cell_type": "code",
   "execution_count": 63,
   "id": "013112bc",
   "metadata": {},
   "outputs": [
    {
     "name": "stdout",
     "output_type": "stream",
     "text": [
      "[[5 5 5]\n",
      " [5 5 5]]\n"
     ]
    }
   ],
   "source": [
    "arr = np.full((2,3),5)\n",
    "print(arr)"
   ]
  },
  {
   "cell_type": "markdown",
   "id": "5c0ae16d",
   "metadata": {},
   "source": [
    "## Output a 5-by-5 array of random integers between 0 and 10"
   ]
  },
  {
   "cell_type": "code",
   "execution_count": 65,
   "id": "6d76d6d0",
   "metadata": {},
   "outputs": [
    {
     "name": "stdout",
     "output_type": "stream",
     "text": [
      "[[3 9 0 4 0]\n",
      " [8 6 6 2 1]\n",
      " [4 5 6 3 9]\n",
      " [9 0 7 0 1]\n",
      " [7 5 3 3 3]]\n"
     ]
    }
   ],
   "source": [
    "arr = np.random.randint(0,10,size=(5,5))\n",
    "print(arr)\n"
   ]
  },
  {
   "cell_type": "markdown",
   "id": "922c95c7",
   "metadata": {},
   "source": [
    "## construct a 2X3 random matrix and transpose it"
   ]
  },
  {
   "cell_type": "code",
   "execution_count": 70,
   "id": "56ab7550",
   "metadata": {},
   "outputs": [
    {
     "name": "stdout",
     "output_type": "stream",
     "text": [
      "orginal arr [[0.6946101  0.01708845 0.84023144]\n",
      " [0.49064506 0.01677738 0.40639411]]\n",
      "this is newarry [[0.6946101  0.49064506]\n",
      " [0.01708845 0.01677738]\n",
      " [0.84023144 0.40639411]]\n"
     ]
    }
   ],
   "source": [
    "arr = np.random.rand(2,3)\n",
    "print(\"orginal arr\",arr)\n",
    "\n",
    "newarr = arr.T\n",
    "print(\"this is newarry\",newarr)"
   ]
  },
  {
   "cell_type": "markdown",
   "id": "6da0d33a",
   "metadata": {},
   "source": [
    "## convert dictionary {0: 0, 1: 1, 2: 8, 3: 27, 4: 64, 5: 125, 6: 216} to array"
   ]
  },
  {
   "cell_type": "code",
   "execution_count": 72,
   "id": "5303cb32",
   "metadata": {},
   "outputs": [
    {
     "name": "stdout",
     "output_type": "stream",
     "text": [
      "[  0   1   8  27  64 125 216]\n"
     ]
    }
   ],
   "source": [
    "d = {0: 0, 1: 1, 2: 8, 3: 27, 4: 64, 5: 125, 6: 216} \n",
    "arr = np.array(list(d.values()))\n",
    "print(arr)"
   ]
  },
  {
   "cell_type": "markdown",
   "id": "3d0ee63c",
   "metadata": {},
   "source": [
    "## Solve the Following Equation\n",
    "\n",
    "3x + y - 2z = 9,\n",
    "2x - y + z = 3,\n",
    "x + 2y + 3z = 12"
   ]
  },
  {
   "cell_type": "code",
   "execution_count": 73,
   "id": "37c4820b",
   "metadata": {},
   "outputs": [
    {
     "name": "stdout",
     "output_type": "stream",
     "text": [
      "[2.6 3.2 1. ]\n"
     ]
    }
   ],
   "source": [
    "arr1=np.array([[3,1,-2],[2,-1,1],[1,2,3]])\n",
    "arr2 =np.array([9,3,12])\n",
    "newarr = np.linalg.solve(arr1,arr2)\n",
    "print(newarr)"
   ]
  },
  {
   "cell_type": "markdown",
   "id": "84e395ce",
   "metadata": {},
   "source": [
    "## Write a NumPy program to create a 3x3x3 array with random values and flatten it to a 1D array."
   ]
  },
  {
   "cell_type": "code",
   "execution_count": 77,
   "id": "d5ed1a36",
   "metadata": {},
   "outputs": [
    {
     "name": "stdout",
     "output_type": "stream",
     "text": [
      "[[[0.5126715  0.26719812 0.26657561]\n",
      "  [0.1065258  0.40376872 0.29556333]\n",
      "  [0.76460347 0.5566649  0.62021778]]\n",
      "\n",
      " [[0.96713859 0.33671454 0.5830509 ]\n",
      "  [0.84514475 0.22436663 0.93036966]\n",
      "  [0.85391481 0.88485706 0.82662899]]\n",
      "\n",
      " [[0.92250385 0.30535074 0.39619407]\n",
      "  [0.86056202 0.18963935 0.15594977]\n",
      "  [0.62242244 0.82823788 0.33578465]]]\n",
      "[0.5126715  0.26719812 0.26657561 0.1065258  0.40376872 0.29556333\n",
      " 0.76460347 0.5566649  0.62021778 0.96713859 0.33671454 0.5830509\n",
      " 0.84514475 0.22436663 0.93036966 0.85391481 0.88485706 0.82662899\n",
      " 0.92250385 0.30535074 0.39619407 0.86056202 0.18963935 0.15594977\n",
      " 0.62242244 0.82823788 0.33578465]\n"
     ]
    }
   ],
   "source": [
    "arr = np.random.rand(3,3,3)\n",
    "print(arr)\n",
    "newarr = arr.flatten()\n",
    "print(newarr)"
   ]
  },
  {
   "cell_type": "markdown",
   "id": "6253ec27",
   "metadata": {},
   "source": [
    "## Write a NumPy program to create a 3x3 array with random values and calculate the pairwise Euclidean distance between each pair of rows."
   ]
  },
  {
   "cell_type": "code",
   "execution_count": null,
   "id": "0ce1706b",
   "metadata": {},
   "outputs": [],
   "source": [
    "\n",
    "arr = np.random.rand(3, 3)\n",
    "print(arr)\n",
    "\n",
    "\n"
   ]
  },
  {
   "cell_type": "markdown",
   "id": "b06f46c3",
   "metadata": {},
   "source": [
    "## Load an Image using PIL and convert to numpy array."
   ]
  },
  {
   "cell_type": "code",
   "execution_count": null,
   "id": "b140ba9c",
   "metadata": {},
   "outputs": [
    {
     "name": "stdout",
     "output_type": "stream",
     "text": [
      "<PIL.JpegImagePlugin.JpegImageFile image mode=RGB size=3024x4032 at 0x107ED8D60>\n",
      "[[[ 81  79  66]\n",
      "  [ 84  82  69]\n",
      "  [ 84  82  69]\n",
      "  ...\n",
      "  [ 86  83  76]\n",
      "  [ 87  84  77]\n",
      "  [ 88  85  78]]\n",
      "\n",
      " [[ 82  80  67]\n",
      "  [ 86  84  71]\n",
      "  [ 86  84  71]\n",
      "  ...\n",
      "  [ 87  84  77]\n",
      "  [ 88  85  78]\n",
      "  [ 88  85  78]]\n",
      "\n",
      " [[ 84  82  69]\n",
      "  [ 88  86  73]\n",
      "  [ 88  86  73]\n",
      "  ...\n",
      "  [ 89  86  79]\n",
      "  [ 89  86  79]\n",
      "  [ 88  85  78]]\n",
      "\n",
      " ...\n",
      "\n",
      " [[172 135  90]\n",
      "  [181 144  99]\n",
      "  [203 166 121]\n",
      "  ...\n",
      "  [211 168 134]\n",
      "  [209 166 132]\n",
      "  [207 164 130]]\n",
      "\n",
      " [[179 145  99]\n",
      "  [194 160 114]\n",
      "  [218 184 138]\n",
      "  ...\n",
      "  [210 167 133]\n",
      "  [208 165 131]\n",
      "  [207 164 130]]\n",
      "\n",
      " [[199 167 120]\n",
      "  [213 181 134]\n",
      "  [233 199 153]\n",
      "  ...\n",
      "  [205 162 128]\n",
      "  [204 161 127]\n",
      "  [204 161 127]]]\n",
      "<PIL.Image.Image image mode=L size=3024x4032 at 0x107EADA90>\n"
     ]
    },
    {
     "ename": "TypeError",
     "evalue": "'JpegImageFile' object is not subscriptable",
     "output_type": "error",
     "traceback": [
      "\u001b[31m---------------------------------------------------------------------------\u001b[39m",
      "\u001b[31mTypeError\u001b[39m                                 Traceback (most recent call last)",
      "\u001b[36mCell\u001b[39m\u001b[36m \u001b[39m\u001b[32mIn[7]\u001b[39m\u001b[32m, line 12\u001b[39m\n\u001b[32m      9\u001b[39m new = img.convert(\u001b[33m\"\u001b[39m\u001b[33mL\u001b[39m\u001b[33m\"\u001b[39m)\n\u001b[32m     10\u001b[39m \u001b[38;5;28mprint\u001b[39m(new)\n\u001b[32m---> \u001b[39m\u001b[32m12\u001b[39m \u001b[38;5;28mprint\u001b[39m(\u001b[43mimg\u001b[49m\u001b[43m[\u001b[49m\u001b[32;43m0\u001b[39;49m\u001b[43m:\u001b[49m\u001b[43m,\u001b[49m\u001b[32;43m1\u001b[39;49m\u001b[43m:\u001b[49m\u001b[43m]\u001b[49m)\n",
      "\u001b[31mTypeError\u001b[39m: 'JpegImageFile' object is not subscriptable"
     ]
    }
   ],
   "source": [
    "from PIL import Image\n",
    " \n",
    "img =Image.open(\"image.jpeg\")\n",
    "print(img)\n",
    "\n",
    "arr = np.array(img)\n",
    "print(arr)\n",
    "\n",
    "new = img.convert(\"L\")\n",
    "print(new)\n"
   ]
  }
 ],
 "metadata": {
  "kernelspec": {
   "display_name": "numpy_learn",
   "language": "python",
   "name": "python3"
  },
  "language_info": {
   "codemirror_mode": {
    "name": "ipython",
    "version": 3
   },
   "file_extension": ".py",
   "mimetype": "text/x-python",
   "name": "python",
   "nbconvert_exporter": "python",
   "pygments_lexer": "ipython3",
   "version": "3.13.4"
  }
 },
 "nbformat": 4,
 "nbformat_minor": 5
}
