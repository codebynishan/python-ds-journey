{
 "cells": [
  {
   "cell_type": "code",
   "execution_count": 4,
   "id": "9f521d1a",
   "metadata": {},
   "outputs": [],
   "source": [
    "import numpy as np"
   ]
  },
  {
   "cell_type": "markdown",
   "id": "2375e211",
   "metadata": {},
   "source": [
    "Random Numbers in NumPy"
   ]
  },
  {
   "cell_type": "code",
   "execution_count": null,
   "id": "1e19aa25",
   "metadata": {},
   "outputs": [
    {
     "name": "stdout",
     "output_type": "stream",
     "text": [
      "40\n",
      "0.37396195629756135\n",
      "[67 22]\n",
      "[[72 16 33 88  3]\n",
      " [ 9 40 93 83 52]\n",
      " [68 99 92  7 10]]\n",
      "[[0.99774165 0.75928102 0.70101792 0.50058265 0.1464684 ]\n",
      " [0.08995368 0.93912582 0.04440719 0.35306852 0.23398666]\n",
      " [0.08661608 0.56258683 0.69440351 0.55084772 0.92671626]]\n",
      "3\n",
      "[[5 9 9 7 5]\n",
      " [5 3 3 3 3]\n",
      " [3 7 3 9 5]]\n"
     ]
    }
   ],
   "source": [
    "from numpy import random\n",
    "\n",
    "\n",
    "arr = random.randint(100)\n",
    "print(arr)\n",
    "\n",
    "arr = random.rand()\n",
    "print(arr)\n",
    "\n",
    "arr = random.randint(100,size=2)\n",
    "print(arr)\n",
    "\n",
    "arr = random.randint(100,size=(3,5))\n",
    "print(arr)\n",
    "\n",
    "arr = random.rand(3,5)\n",
    "print(arr)\n",
    "\n",
    "\n",
    "x = random.choice([3, 5, 7, 9])\n",
    "print(x)\n",
    "\n",
    "x = random.choice([3, 5, 7, 9],size=(3,5))\n",
    "print(x)\n",
    "\n",
    "\n",
    "\n",
    "\n",
    "\n"
   ]
  },
  {
   "cell_type": "markdown",
   "id": "04e3146a",
   "metadata": {},
   "source": [
    "Data distrubution "
   ]
  },
  {
   "cell_type": "code",
   "execution_count": 95,
   "id": "c6d8505d",
   "metadata": {},
   "outputs": [
    {
     "name": "stdout",
     "output_type": "stream",
     "text": [
      "5\n",
      "[1 4 5 3 2]\n",
      "[1 2 3 4 5 6]\n"
     ]
    }
   ],
   "source": [
    "from numpy import random\n",
    "\n",
    "x = random.choice([3, 5, 7, 9], p=[0.1, 0.3, 0.1, 0.5])\n",
    "print(x)\n",
    "\n",
    "arr = np.array([1,2,3,4,5])\n",
    "x = random.shuffle(arr)\n",
    "\n",
    "print(arr)\n",
    "\n",
    "arr = np.array([1,2,3,4,5,6])\n",
    "x = random.permutation(arr)\n",
    "\n",
    "print(arr)"
   ]
  }
 ],
 "metadata": {
  "kernelspec": {
   "display_name": ".venv",
   "language": "python",
   "name": "python3"
  },
  "language_info": {
   "codemirror_mode": {
    "name": "ipython",
    "version": 3
   },
   "file_extension": ".py",
   "mimetype": "text/x-python",
   "name": "python",
   "nbconvert_exporter": "python",
   "pygments_lexer": "ipython3",
   "version": "3.13.4"
  }
 },
 "nbformat": 4,
 "nbformat_minor": 5
}
