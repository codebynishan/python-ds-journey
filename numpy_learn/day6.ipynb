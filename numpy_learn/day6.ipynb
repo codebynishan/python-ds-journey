{
 "cells": [
  {
   "cell_type": "markdown",
   "id": "475e5ef9",
   "metadata": {},
   "source": [
    "# example of linear equation\n",
    "# 2x + y = 5,\n",
    "# x - y = 1"
   ]
  },
  {
   "cell_type": "code",
   "execution_count": 19,
   "id": "7f2a92fb",
   "metadata": {},
   "outputs": [
    {
     "name": "stdout",
     "output_type": "stream",
     "text": [
      "[2. 1.]\n"
     ]
    }
   ],
   "source": [
    "import numpy as np  \n",
    "a = np.array([[2,1],[1,-1]])\n",
    "b = np.array([5,1])\n",
    "sol = np.linalg.solve(a,b)\n",
    "print(sol)\n"
   ]
  },
  {
   "cell_type": "markdown",
   "id": "98b00339",
   "metadata": {},
   "source": [
    "# 3x + y-2z =9\n",
    "# 2x -y + z = 3\n",
    "# x +2y +3z =12"
   ]
  },
  {
   "cell_type": "code",
   "execution_count": 20,
   "id": "195b6ab3",
   "metadata": {},
   "outputs": [
    {
     "name": "stdout",
     "output_type": "stream",
     "text": [
      "[2.6 3.2 1. ]\n"
     ]
    }
   ],
   "source": [
    "a = np.array ([[3,1,-2],[2,-1,1],[1,2,3]])\n",
    "b = np.array([9,3,12])\n",
    "sol = np.linalg.solve(a,b)\n",
    "print(sol)"
   ]
  },
  {
   "cell_type": "code",
   "execution_count": 14,
   "id": "fe074cc0",
   "metadata": {},
   "outputs": [
    {
     "data": {
      "text/plain": [
       "array([0.7003436 , 0.84540099, 0.15662896, ..., 0.80646166, 0.28407041,\n",
       "       0.20751888], shape=(1000000,))"
      ]
     },
     "execution_count": 14,
     "metadata": {},
     "output_type": "execute_result"
    }
   ],
   "source": [
    "import numpy as np \n",
    "a = np.random.random(1000000)\n",
    "a"
   ]
  },
  {
   "cell_type": "code",
   "execution_count": 15,
   "id": "c4ec62c2",
   "metadata": {},
   "outputs": [
    {
     "name": "stdout",
     "output_type": "stream",
     "text": [
      "CPU times: user 1.31 ms, sys: 1.04 ms, total: 2.35 ms\n",
      "Wall time: 5.89 ms\n"
     ]
    }
   ],
   "source": [
    "%%time\n",
    "x= np.sum(a)"
   ]
  },
  {
   "cell_type": "code",
   "execution_count": 16,
   "id": "45844406",
   "metadata": {},
   "outputs": [
    {
     "name": "stdout",
     "output_type": "stream",
     "text": [
      "CPU times: user 97 ms, sys: 1.97 ms, total: 99 ms\n",
      "Wall time: 102 ms\n"
     ]
    }
   ],
   "source": [
    "%%time\n",
    "x=0\n",
    "for element in a:\n",
    "    x += element"
   ]
  },
  {
   "cell_type": "code",
   "execution_count": 17,
   "id": "651a64f1",
   "metadata": {},
   "outputs": [
    {
     "name": "stdout",
     "output_type": "stream",
     "text": [
      "[[ 7  8]\n",
      " [11 12]]\n",
      "[[2 3]\n",
      " [6 7]]\n"
     ]
    }
   ],
   "source": [
    "import numpy as np\n",
    "a = np.array([[1,2,3,4],[5,6,7,8],[9,10,11,12]])\n",
    "\n",
    "b = a[1:4, 2:4]\n",
    "print(b)\n",
    "\n",
    "c = a[0:2, 1:3]\n",
    "print(c)\n",
    "\n"
   ]
  },
  {
   "cell_type": "code",
   "execution_count": 18,
   "id": "47eb6c53",
   "metadata": {},
   "outputs": [
    {
     "name": "stdout",
     "output_type": "stream",
     "text": [
      "[[1 2]\n",
      " [6 7]]\n",
      "[[ 3  4]\n",
      " [ 8  9]\n",
      " [13 14]]\n",
      "[]\n"
     ]
    }
   ],
   "source": [
    "import numpy as np \n",
    "a = np.array([[1,2,3,4,5],[6,7,8,9,10]])\n",
    "print(a[:,0:2])\n",
    "\n",
    "a = np.array([[1,2,3,4,5],[6,7,8,9,10],[11,12,13,14,15]])\n",
    "print(a[:,2:4])\n",
    "\n",
    "a = np.array([[[1,2,3,4,5],[6,7,8,9,10]],[[11,12,13,14,15],[16,17,18,19,20]]])\n",
    "print(a[:,2:3,0])\n",
    "\n"
   ]
  },
  {
   "cell_type": "markdown",
   "id": "0283ea4a",
   "metadata": {},
   "source": [
    "# Random number"
   ]
  },
  {
   "cell_type": "code",
   "execution_count": 54,
   "id": "6a21cccf",
   "metadata": {},
   "outputs": [
    {
     "name": "stdout",
     "output_type": "stream",
     "text": [
      "0.5016209763100709\n",
      "[4 7 7 6 8]\n",
      "[[ 2 13]\n",
      " [10 14]\n",
      " [13  3]]\n",
      "[2 4 2]\n",
      "[4 1 2]\n"
     ]
    }
   ],
   "source": [
    "# generate single random number between 0 and 1\n",
    "import numpy as np\n",
    "number= np.random.rand()\n",
    "print(number)\n",
    "\n",
    "#generate a single random interger between 0 and 10\n",
    "import numpy as np\n",
    "number= np.random.randint(0,10,size =5)\n",
    "print(number)\n",
    "\n",
    "#generate a 3x2 array of random integer between 0 and 20\n",
    "import numpy as np\n",
    "number= np.random.randint(0,20,size =(3,2))\n",
    "print(number)\n",
    "\n",
    "#randomly choose 3 element from the list[1,2,3,4,5]\n",
    "import numpy as np\n",
    "number= np.random.choice([1,2,3,4,5],size =3)\n",
    "print(number)\n",
    "\n",
    "\n",
    "#sample with replacement (the same element can be choosen more than once )\n",
    "import numpy as np\n",
    "number= np.random.choice([1,2,3,4,5],size =3, replace =False)\n",
    "print(number)"
   ]
  },
  {
   "cell_type": "markdown",
   "id": "e0dda8b6",
   "metadata": {},
   "source": [
    "# Random number with a specific seed"
   ]
  },
  {
   "cell_type": "code",
   "execution_count": 78,
   "id": "c70226e2",
   "metadata": {},
   "outputs": [
    {
     "name": "stdout",
     "output_type": "stream",
     "text": [
      "0.3745401188473625\n",
      "0.4076870280802861\n"
     ]
    }
   ],
   "source": [
    "a =np.random.seed(42)\n",
    "number= np.random.rand()\n",
    "print(number)\n",
    "a =np.random.seed(40)\n",
    "number= np.random.rand()\n",
    "print(number)"
   ]
  }
 ],
 "metadata": {
  "kernelspec": {
   "display_name": ".venv",
   "language": "python",
   "name": "python3"
  },
  "language_info": {
   "codemirror_mode": {
    "name": "ipython",
    "version": 3
   },
   "file_extension": ".py",
   "mimetype": "text/x-python",
   "name": "python",
   "nbconvert_exporter": "python",
   "pygments_lexer": "ipython3",
   "version": "3.13.4"
  }
 },
 "nbformat": 4,
 "nbformat_minor": 5
}
