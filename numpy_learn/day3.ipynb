{
 "cells": [
  {
   "cell_type": "markdown",
   "id": "103ba184",
   "metadata": {},
   "source": [
    "Numpy array iterating"
   ]
  },
  {
   "cell_type": "code",
   "execution_count": 60,
   "id": "93fc8d66",
   "metadata": {},
   "outputs": [],
   "source": [
    "import numpy as np"
   ]
  },
  {
   "cell_type": "code",
   "execution_count": 7,
   "id": "098ac5eb",
   "metadata": {},
   "outputs": [
    {
     "name": "stdout",
     "output_type": "stream",
     "text": [
      "1\n",
      "2\n",
      "3\n",
      "[1 2 3 4]\n",
      "[5 6 7 8]\n",
      "1\n",
      "2\n",
      "3\n",
      "4\n",
      "5\n",
      "6\n",
      "7\n",
      "8\n",
      "1\n",
      "2\n",
      "3\n",
      "4\n",
      "5\n",
      "6\n",
      "7\n",
      "8\n",
      "9\n",
      "10\n",
      "11\n",
      "12\n",
      "13\n",
      "14\n",
      "15\n",
      "16\n"
     ]
    }
   ],
   "source": [
    "arr =np.array([1,2,3])\n",
    "for i in arr:\n",
    "    print(i)\n",
    "    \n",
    "arr = np.array([[1,2,3,4],[5,6,7,8]])\n",
    "for i in arr:\n",
    "    print(i)\n",
    "    \n",
    "arr = np.array([[1,2,3,4],[5,6,7,8]])\n",
    "for i in arr:\n",
    "    for j in i:\n",
    "        print(j)\n",
    "        \n",
    "arr = np.array([[[1,2,3,4],[5,6,7,8]],[[9,10,11,12],[13,14,15,16]]])\n",
    "for i in arr:\n",
    "    for j in i:\n",
    "        for x in j:\n",
    "            print(x)\n",
    "\n",
    "        "
   ]
  },
  {
   "cell_type": "markdown",
   "id": "67c90e67",
   "metadata": {},
   "source": [
    "using uditer()"
   ]
  },
  {
   "cell_type": "code",
   "execution_count": null,
   "id": "64bb7259",
   "metadata": {},
   "outputs": [
    {
     "name": "stdout",
     "output_type": "stream",
     "text": [
      "1\n",
      "2\n",
      "3\n",
      "4\n",
      "5\n",
      "6\n",
      "7\n",
      "8\n",
      "9\n",
      "10\n",
      "11\n",
      "12\n",
      "13\n",
      "14\n",
      "15\n",
      "16\n"
     ]
    }
   ],
   "source": [
    "arr = np.array([[[1,2,3,4],[5,6,7,8]],[[9,10,11,12],[13,14,15,16]]])\n",
    "for x in np.nditer(arr):\n",
    "    print(x)\n"
   ]
  },
  {
   "cell_type": "markdown",
   "id": "28dfbfe0",
   "metadata": {},
   "source": [
    "changing datatype during iteration"
   ]
  },
  {
   "cell_type": "code",
   "execution_count": null,
   "id": "287b5001",
   "metadata": {},
   "outputs": [
    {
     "name": "stdout",
     "output_type": "stream",
     "text": [
      "np.bytes_(b'1')\n",
      "np.bytes_(b'2')\n",
      "np.bytes_(b'3')\n",
      "np.bytes_(b'4')\n",
      "np.bytes_(b'5')\n",
      "np.bytes_(b'6')\n",
      "np.bytes_(b'7')\n",
      "np.bytes_(b'8')\n"
     ]
    }
   ],
   "source": [
    "arr = np.array([[1,2,3,4],[5,6,7,8]])\n",
    "for i in np.nditer(arr,flags=['buffered'],op_dtypes=['S']):\n",
    "    print(i)\n",
    "    \n",
    "    "
   ]
  },
  {
   "cell_type": "markdown",
   "id": "1b5f9370",
   "metadata": {},
   "source": [
    "Iterating With Different Step Size"
   ]
  },
  {
   "cell_type": "code",
   "execution_count": 13,
   "id": "d2fbb7b3",
   "metadata": {},
   "outputs": [
    {
     "name": "stdout",
     "output_type": "stream",
     "text": [
      "2\n",
      "4\n",
      "6\n",
      "8\n",
      "1\n",
      "5\n",
      "9\n",
      "13\n",
      "2\n",
      "3\n",
      "4\n",
      "6\n",
      "7\n",
      "8\n"
     ]
    }
   ],
   "source": [
    "arr = np.array([[1, 2, 3, 4], [5, 6, 7, 8]])\n",
    "for x in np.nditer(arr[:,1::2]):\n",
    "    print(x)\n",
    "\n",
    "arr = np.array([[[1,2,3,4],[5,6,7,8]],[[9,10,11,12],[13,14,15,16]]])\n",
    "for x in np.nditer(arr[:,:,0]):\n",
    "    print(x)\n",
    "    \n",
    "arr = np.array([[1, 2, 3, 4], [5, 6, 7, 8]])\n",
    "for x in np.nditer(arr[:,1:]):\n",
    "    print(x)  \n"
   ]
  },
  {
   "cell_type": "markdown",
   "id": "7e4cb36a",
   "metadata": {},
   "source": [
    "Numpy joining array"
   ]
  },
  {
   "cell_type": "markdown",
   "id": "907c611c",
   "metadata": {},
   "source": [
    "Iteration Using ndenumerate()"
   ]
  },
  {
   "cell_type": "markdown",
   "id": "f53550e9",
   "metadata": {},
   "source": [
    "using concatenate"
   ]
  },
  {
   "cell_type": "code",
   "execution_count": 16,
   "id": "4e7e7419",
   "metadata": {},
   "outputs": [
    {
     "name": "stdout",
     "output_type": "stream",
     "text": [
      "(0,) 1\n",
      "(1,) 2\n",
      "(2,) 3\n",
      "(0, 0) 1\n",
      "(0, 1) 2\n",
      "(0, 2) 3\n",
      "(0, 3) 4\n",
      "(1, 0) 5\n",
      "(1, 1) 6\n",
      "(1, 2) 7\n",
      "(1, 3) 8\n"
     ]
    }
   ],
   "source": [
    "\n",
    "\n",
    "arr = np.array([1, 2, 3])\n",
    "for idx, x in np.ndenumerate(arr):\n",
    "  print(idx, x)\n",
    "  \n",
    "arr = np.array([[1, 2, 3, 4], [5, 6, 7, 8]])\n",
    "for idx,x in np.ndenumerate(arr):\n",
    "  print(idx,x)"
   ]
  },
  {
   "cell_type": "markdown",
   "id": "b77228f7",
   "metadata": {},
   "source": [
    "NumPy Joining Array"
   ]
  },
  {
   "cell_type": "code",
   "execution_count": 28,
   "id": "93c884f8",
   "metadata": {},
   "outputs": [
    {
     "name": "stdout",
     "output_type": "stream",
     "text": [
      "[1 2 3 4 5 6 7 8]\n",
      "[[1 2 5 6]\n",
      " [3 4 7 8]]\n",
      "[[[1 2 5 6]\n",
      "  [3 4 7 8]]]\n"
     ]
    }
   ],
   "source": [
    "# 1-d array joining\n",
    "arr1 =np.array([1,2,3,4])\n",
    "arr2 = np.array([5,6,7,8])\n",
    "arr = np.concatenate((arr1,arr2))\n",
    "print(arr)\n",
    "\n",
    "# 2-d array joining\n",
    "arr1 = np.array([[1, 2], [3, 4]])\n",
    "arr2 = np.array([[5, 6], [7, 8]])\n",
    "arr = np.concatenate((arr1, arr2),axis=1)\n",
    "print(arr)\n",
    "\n",
    "# 3-d array joining\n",
    "arr1 = np.array([[[1, 2], [3, 4]]])\n",
    "arr2 = np.array([[[5, 6], [7, 8]]])\n",
    "arr = np.concatenate((arr1, arr2),axis=2)\n",
    "print(arr)\n",
    "\n",
    "\n"
   ]
  },
  {
   "cell_type": "markdown",
   "id": "947bd9ea",
   "metadata": {},
   "source": [
    "stacking arrays"
   ]
  },
  {
   "cell_type": "code",
   "execution_count": 39,
   "id": "17067b28",
   "metadata": {},
   "outputs": [
    {
     "name": "stdout",
     "output_type": "stream",
     "text": [
      "[[1 4]\n",
      " [2 5]\n",
      " [3 6]]\n",
      "[[[1 2]\n",
      "  [5 6]]\n",
      "\n",
      " [[3 4]\n",
      "  [7 8]]]\n",
      "[[[[1 2]\n",
      "   [3 4]]]\n",
      "\n",
      "\n",
      " [[[5 6]\n",
      "   [7 8]]]]\n",
      "[1 2 3 4 5 6]\n",
      "[[1 2 3]\n",
      " [4 5 6]]\n",
      "[[[1 4]\n",
      "  [2 5]\n",
      "  [3 6]]]\n"
     ]
    }
   ],
   "source": [
    "arr1 = np.array([1, 2, 3])\n",
    "arr2 = np.array([4, 5, 6])\n",
    "arr = np.stack((arr1, arr2),axis=1)\n",
    "print(arr)\n",
    "\n",
    "arr1 = np.array([[1, 2], [3, 4]])\n",
    "arr2 = np.array([[5, 6], [7, 8]])\n",
    "arr = np.stack((arr1, arr2),axis=1)\n",
    "print(arr)\n",
    "\n",
    "arr1 = np.array([[[1, 2], [3, 4]]])\n",
    "arr2 = np.array([[[5, 6], [7, 8]]])\n",
    "arr = np.stack((arr1, arr2))\n",
    "print(arr)\n",
    "\n",
    "\n",
    "arr1 = np.array([1, 2, 3])\n",
    "arr2 = np.array([4, 5, 6])\n",
    "arr = np.hstack((arr1, arr2))\n",
    "print(arr)\n",
    "\n",
    "\n",
    "arr1 = np.array([1, 2, 3])\n",
    "arr2 = np.array([4, 5, 6])\n",
    "arr = np.vstack((arr1, arr2))\n",
    "print(arr)\n",
    "\n",
    "\n",
    "arr1 = np.array([1, 2, 3])\n",
    "arr2 = np.array([4, 5, 6])\n",
    "arr = np.dstack((arr1, arr2))\n",
    "print(arr)\n",
    "\n",
    "\n"
   ]
  },
  {
   "cell_type": "markdown",
   "id": "0249c4eb",
   "metadata": {},
   "source": [
    "Splitting NumPy Arrays"
   ]
  },
  {
   "cell_type": "code",
   "execution_count": 43,
   "id": "6c84d00e",
   "metadata": {},
   "outputs": [
    {
     "name": "stdout",
     "output_type": "stream",
     "text": [
      "[array([1, 2]), array([3, 4]), array([5, 6])]\n",
      "[array([1, 2]), array([3, 4]), array([5]), array([6])]\n",
      "[array([[1, 2],\n",
      "       [3, 4]]), array([[5, 6],\n",
      "       [7, 8]]), array([[ 9, 10],\n",
      "       [11, 12]])]\n",
      "[array([[ 1],\n",
      "       [ 4],\n",
      "       [ 7],\n",
      "       [10],\n",
      "       [13],\n",
      "       [16]]), array([[ 2],\n",
      "       [ 5],\n",
      "       [ 8],\n",
      "       [11],\n",
      "       [14],\n",
      "       [17]]), array([[ 3],\n",
      "       [ 6],\n",
      "       [ 9],\n",
      "       [12],\n",
      "       [15],\n",
      "       [18]])]\n"
     ]
    }
   ],
   "source": [
    "arr = np.array([1, 2, 3, 4, 5, 6])\n",
    "newarr = np.array_split(arr, 3)\n",
    "print(newarr)\n",
    "\n",
    "arr = np.array([1, 2, 3, 4, 5, 6])\n",
    "newarr = np.array_split(arr, 4)\n",
    "print(newarr)\n",
    "\n",
    "arr = np.array([[1, 2], [3, 4], [5, 6], [7, 8], [9, 10], [11, 12]])\n",
    "newarr = np.array_split(arr, 3)\n",
    "print(newarr)\n",
    "\n",
    "\n",
    "arr = np.array([[1, 2, 3], [4, 5, 6], [7, 8, 9], [10, 11, 12], [13, 14, 15], [16, 17, 18]])\n",
    "newarr = np.hsplit(arr, 3)\n",
    "print(newarr)\n",
    "\n"
   ]
  },
  {
   "cell_type": "markdown",
   "id": "b101d1d4",
   "metadata": {},
   "source": [
    "NumPy Searching Arrays"
   ]
  },
  {
   "cell_type": "code",
   "execution_count": 48,
   "id": "0a5460bc",
   "metadata": {},
   "outputs": [
    {
     "name": "stdout",
     "output_type": "stream",
     "text": [
      "(array([3, 5, 6]),)\n",
      "(array([1, 3, 5, 7]),)\n",
      "(array([ 2,  5,  8, 10, 13, 16, 19, 22, 25, 28]),)\n"
     ]
    }
   ],
   "source": [
    "arr = np.array([1, 2, 3, 4, 5, 4, 4])\n",
    "x = np.where(arr == 4)\n",
    "print(x)\n",
    "\n",
    "arr = np.array([1, 2, 3, 4, 5, 6, 7, 8])\n",
    "x = np.where(arr%2 == 0)\n",
    "print(x)\n",
    "\n",
    "arr =np.array([1,2,3,4,5,6,7,8,9,10.11,12,13,14,15,16,17,18,19,20,21,22,23,24,25,26,27,28,29,30])\n",
    "x = np.where(arr%3==0)\n",
    "print(x)\n",
    "\n"
   ]
  },
  {
   "cell_type": "markdown",
   "id": "e4503ce0",
   "metadata": {},
   "source": [
    "Search Sorted array"
   ]
  },
  {
   "cell_type": "code",
   "execution_count": 56,
   "id": "d98177db",
   "metadata": {},
   "outputs": [
    {
     "name": "stdout",
     "output_type": "stream",
     "text": [
      "1\n",
      "2\n",
      "[1 3 6]\n"
     ]
    }
   ],
   "source": [
    "arr = np.array([1, 2, 3, 4, 5, 6, 7, 8])\n",
    "x = np.searchsorted(arr,2)\n",
    "print(x)\n",
    "\n",
    "arr = np.array([1, 2, 3, 4, 5, 6, 7, 8])\n",
    "x = np.searchsorted(arr,2,side='right')\n",
    "print(x)\n",
    "\n",
    "arr = np.array([1, 3, 4,  6, 7, 8])\n",
    "x = np.searchsorted(arr,[2,5,9])\n",
    "print(x)\n",
    "\n"
   ]
  },
  {
   "cell_type": "markdown",
   "id": "fcb96f5f",
   "metadata": {},
   "source": [
    "NumPy Sorting Arrays"
   ]
  },
  {
   "cell_type": "code",
   "execution_count": null,
   "id": "bd059d84",
   "metadata": {},
   "outputs": [
    {
     "name": "stdout",
     "output_type": "stream",
     "text": [
      "[False  True  True]\n",
      "['apple' 'banana' 'cherry']\n",
      "[[2 3 4]\n",
      " [0 1 5]]\n"
     ]
    }
   ],
   "source": [
    "arr = np.array([True, False, True])\n",
    "print(np.sort(arr))\n",
    "\n",
    "arr = np.array(['banana', 'cherry', 'apple'])\n",
    "print(np.sort(arr))\n",
    "\n",
    "arr = np.array([[3, 2, 4], [5, 0, 1]])\n",
    "print(np.sort(arr))\n",
    "\n",
    "\n"
   ]
  },
  {
   "cell_type": "markdown",
   "id": "07e51374",
   "metadata": {},
   "source": [
    "NumPy Filter Array"
   ]
  },
  {
   "cell_type": "code",
   "execution_count": null,
   "id": "b131d2b7",
   "metadata": {},
   "outputs": [],
   "source": []
  }
 ],
 "metadata": {
  "kernelspec": {
   "display_name": ".venv",
   "language": "python",
   "name": "python3"
  },
  "language_info": {
   "codemirror_mode": {
    "name": "ipython",
    "version": 3
   },
   "file_extension": ".py",
   "mimetype": "text/x-python",
   "name": "python",
   "nbconvert_exporter": "python",
   "pygments_lexer": "ipython3",
   "version": "3.13.4"
  }
 },
 "nbformat": 4,
 "nbformat_minor": 5
}
