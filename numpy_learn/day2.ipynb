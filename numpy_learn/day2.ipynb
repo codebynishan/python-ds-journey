{
 "cells": [
  {
   "cell_type": "markdown",
   "id": "8cdbd550",
   "metadata": {},
   "source": [
    "Numpy Datatype\n"
   ]
  },
  {
   "cell_type": "code",
   "execution_count": null,
   "id": "2bb480d4",
   "metadata": {},
   "outputs": [],
   "source": [
    "# i - integer\n",
    "# b - boolean\n",
    "# u - unsigned integer\n",
    "# f - float\n",
    "# c - complex float\n",
    "# m - timedelta\n",
    "# M - datetime\n",
    "# O - object\n",
    "# S - string\n",
    "# U - unicode string\n",
    "# V - fixed chunk of memory for other type ( void )\n"
   ]
  },
  {
   "cell_type": "markdown",
   "id": "57425033",
   "metadata": {},
   "source": [
    "checking datatype in numpy"
   ]
  },
  {
   "cell_type": "code",
   "execution_count": 4,
   "id": "ea88bb34",
   "metadata": {},
   "outputs": [],
   "source": [
    "import numpy as np"
   ]
  },
  {
   "cell_type": "code",
   "execution_count": 17,
   "id": "120dd584",
   "metadata": {},
   "outputs": [
    {
     "name": "stdout",
     "output_type": "stream",
     "text": [
      "int64\n",
      "<U7\n",
      "|S1\n",
      "[b'1' b'2' b'3' b'4' b'5' b'6']\n",
      "complex64\n",
      "[1.+0.j 2.+0.j 3.+0.j 4.+0.j 5.+0.j 6.+0.j]\n",
      "int32\n",
      "[1 2 3 4 5 6]\n"
     ]
    }
   ],
   "source": [
    "arr = np.array([1,2,3,4,5,6])\n",
    "print(arr.dtype)\n",
    "\n",
    "arr = np.array([\"name\",\"address\"])\n",
    "print(arr.dtype)\n",
    "\n",
    "arr = np.array([1,2,3,4,5,6], dtype='S')\n",
    "print(arr.dtype)\n",
    "print(arr)\n",
    "\n",
    "arr = np.array([1,2,3,4,5,6], dtype='F')\n",
    "print(arr.dtype)\n",
    "print(arr)\n",
    "\n",
    "arr = np.array([1,2,3,4,5,6], dtype='i4')\n",
    "print(arr.dtype)\n",
    "print(arr)\n",
    "\n",
    "\n"
   ]
  },
  {
   "cell_type": "markdown",
   "id": "756675c0",
   "metadata": {},
   "source": [
    "Converting Data Type "
   ]
  },
  {
   "cell_type": "code",
   "execution_count": null,
   "id": "8bdf3452",
   "metadata": {},
   "outputs": [
    {
     "name": "stdout",
     "output_type": "stream",
     "text": [
      "[b'1' b'2' b'3' b'4' b'5']\n",
      "[1.+0.j 2.+0.j 3.+0.j 4.+0.j 5.+0.j]\n",
      "[1.2 2.  3.9]\n",
      "[1 2 3]\n",
      "[ True False  True False  True]\n"
     ]
    }
   ],
   "source": [
    "arr = np.array([1,2,3,4,5])\n",
    "newarr = arr.astype('S')\n",
    "print(newarr)\n",
    "\n",
    "arr = np.array([1,2,3,4,5])\n",
    "newarr = arr.astype('F')\n",
    "print(newarr)\n",
    "\n",
    "arr =np.array([1.2,2.0,3.9])\n",
    "newarr = arr.astype('i')\n",
    "print(arr)\n",
    "print(newarr)\n",
    "\n",
    "arr = np.array([1,0,1,0,2])\n",
    "newarr =arr.astype(bool)\n",
    "print(newarr)\n",
    "\n",
    "\n",
    "\n"
   ]
  },
  {
   "cell_type": "markdown",
   "id": "d66cc457",
   "metadata": {},
   "source": [
    "Numpy copy and view array"
   ]
  },
  {
   "cell_type": "code",
   "execution_count": 47,
   "id": "b0fabfc0",
   "metadata": {},
   "outputs": [
    {
     "name": "stdout",
     "output_type": "stream",
     "text": [
      "[42  2  3  4  5]\n",
      "[1 2 3 4 5]\n",
      "[42  2  3  4  5]\n",
      "[42  2  3  4  5]\n"
     ]
    }
   ],
   "source": [
    "arr = np.array([1, 2, 3, 4, 5])\n",
    "x = arr.copy()\n",
    "arr[0] = 42\n",
    "print(arr)\n",
    "print(x)\n",
    "\n",
    "arr = np.array([1, 2, 3, 4, 5])\n",
    "x = arr.view()\n",
    "arr[0] = 42\n",
    "print(arr)\n",
    "print(x)"
   ]
  },
  {
   "cell_type": "markdown",
   "id": "ad01ddac",
   "metadata": {},
   "source": [
    "checking orginal data "
   ]
  },
  {
   "cell_type": "code",
   "execution_count": 49,
   "id": "cdb7ee22",
   "metadata": {},
   "outputs": [
    {
     "name": "stdout",
     "output_type": "stream",
     "text": [
      "None\n",
      "[1 2 3 4 5]\n"
     ]
    }
   ],
   "source": [
    "arr = np.array([1, 2, 3, 4, 5])\n",
    "\n",
    "x = arr.copy()\n",
    "y = arr.view()\n",
    "\n",
    "print(x.base)\n",
    "print(y.base)"
   ]
  },
  {
   "cell_type": "markdown",
   "id": "0941138d",
   "metadata": {},
   "source": [
    "Shape of an Array"
   ]
  },
  {
   "cell_type": "code",
   "execution_count": null,
   "id": "598dbaba",
   "metadata": {},
   "outputs": [
    {
     "name": "stdout",
     "output_type": "stream",
     "text": [
      "(2, 4)\n",
      "<built-in method reshape of numpy.ndarray object at 0x1265b1bf0>\n",
      "[[[1 2 3 4]\n",
      "  [5 6 7 8]]]\n",
      "(1, 2, 4)\n"
     ]
    }
   ],
   "source": [
    "arr = np.array([[1, 2, 3, 4], [5, 6, 7, 8]])\n",
    "print(arr.shape)\n",
    "\n",
    "\n",
    "\n",
    "arr = np.array([[1, 2, 3, 4], [5, 6, 7, 8]],ndmin=3)\n",
    "print(arr)\n",
    "print(arr.shape)\n",
    "\n",
    "\n"
   ]
  },
  {
   "cell_type": "markdown",
   "id": "8dd57c08",
   "metadata": {},
   "source": [
    "Reshaping arrays"
   ]
  },
  {
   "cell_type": "code",
   "execution_count": 12,
   "id": "268a6b93",
   "metadata": {},
   "outputs": [
    {
     "name": "stdout",
     "output_type": "stream",
     "text": [
      "[[ 1  2  3]\n",
      " [ 4  5  6]\n",
      " [ 7  8  9]\n",
      " [10 11 12]]\n",
      "[[[ 1  2]\n",
      "  [ 3  4]\n",
      "  [ 5  6]]\n",
      "\n",
      " [[ 7  8]\n",
      "  [ 9 10]\n",
      "  [11 12]]]\n",
      "1\n",
      "[[ 1  2  3]\n",
      " [ 4  5  6]\n",
      " [ 7  8  9]\n",
      " [10 11 12]]\n",
      "2\n",
      "[[[1 2]\n",
      "  [3 4]]\n",
      "\n",
      " [[5 6]\n",
      "  [7 8]]]\n",
      "[1 2 3 4 5 6]\n",
      "[ 1  2  3  4  5  6  7  8  9 10 11 12 13 14 15 16]\n"
     ]
    }
   ],
   "source": [
    "arr = np.array([1, 2, 3, 4, 5, 6, 7, 8, 9, 10, 11, 12])\n",
    "newarr = arr.reshape(4, 3)\n",
    "print(newarr)\n",
    "\n",
    "arr = np.array([1, 2, 3, 4, 5, 6, 7, 8, 9, 10, 11, 12])\n",
    "newarr = arr.reshape(2,3,2)\n",
    "print(newarr)\n",
    "print(arr.ndim)\n",
    "\n",
    "arr = np.array([1, 2, 3, 4, 5, 6, 7, 8, 9, 10, 11, 12])\n",
    "newarr = arr.reshape(4,3)\n",
    "print(newarr)\n",
    "print(newarr.ndim)\n",
    "\n",
    "arr = np.array([1, 2, 3, 4, 5, 6, 7, 8])\n",
    "newarr = arr.reshape(2, 2, -1)\n",
    "print(newarr)\n",
    "\n",
    "\n",
    "arr = np.array([[1, 2, 3], [4, 5, 6]])\n",
    "newarr = arr.reshape(-1)\n",
    "print(newarr)\n",
    "\n",
    "arr = np.array([[[1,2,3,4],[5,6,7,8]],[[9,10,11,12],[13,14,15,16]]])\n",
    "newarr = arr.reshape(-1)\n",
    "print(newarr)\n",
    "\n"
   ]
  }
 ],
 "metadata": {
  "kernelspec": {
   "display_name": ".venv",
   "language": "python",
   "name": "python3"
  },
  "language_info": {
   "codemirror_mode": {
    "name": "ipython",
    "version": 3
   },
   "file_extension": ".py",
   "mimetype": "text/x-python",
   "name": "python",
   "nbconvert_exporter": "python",
   "pygments_lexer": "ipython3",
   "version": "3.13.4"
  }
 },
 "nbformat": 4,
 "nbformat_minor": 5
}
