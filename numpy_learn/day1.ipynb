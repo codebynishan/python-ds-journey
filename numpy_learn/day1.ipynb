{
 "cells": [
  {
   "cell_type": "code",
   "execution_count": 2,
   "id": "779858f9",
   "metadata": {},
   "outputs": [],
   "source": [
    "import numpy as np\n"
   ]
  },
  {
   "cell_type": "markdown",
   "id": "33f1b888",
   "metadata": {},
   "source": [
    "Dimensions in Arrays\n"
   ]
  },
  {
   "cell_type": "markdown",
   "id": "05157e93",
   "metadata": {},
   "source": [
    "1-d array\n"
   ]
  },
  {
   "cell_type": "code",
   "execution_count": 3,
   "id": "4edb327f",
   "metadata": {},
   "outputs": [
    {
     "name": "stdout",
     "output_type": "stream",
     "text": [
      "[1 2 3 4 5]\n"
     ]
    }
   ],
   "source": [
    "arr = np.array([1,2,3,4,5])\n",
    "print(arr)"
   ]
  },
  {
   "cell_type": "markdown",
   "id": "02a503d9",
   "metadata": {},
   "source": [
    "2-d array"
   ]
  },
  {
   "cell_type": "code",
   "execution_count": 4,
   "id": "1e60b22f",
   "metadata": {},
   "outputs": [
    {
     "name": "stdout",
     "output_type": "stream",
     "text": [
      "[[ 1  2  3  4  5]\n",
      " [ 6  7  8  9 10]]\n"
     ]
    }
   ],
   "source": [
    "arr = np.array([[1,2,3,4,5],[6,7,8,9,10]])\n",
    "print(arr)"
   ]
  },
  {
   "cell_type": "markdown",
   "id": "4663e43f",
   "metadata": {},
   "source": [
    "3-d Array"
   ]
  },
  {
   "cell_type": "code",
   "execution_count": 6,
   "id": "3cf3bcf5",
   "metadata": {},
   "outputs": [
    {
     "name": "stdout",
     "output_type": "stream",
     "text": [
      "[[[ 1  2  3  4]\n",
      "  [ 5  6  7  8]]\n",
      "\n",
      " [[ 9 10 11 12]\n",
      "  [13 14 15 16]]]\n"
     ]
    }
   ],
   "source": [
    "arr = np.array([[[1,2,3,4],[5,6,7,8]],[[9,10,11,12],[13,14,15,16]]])\n",
    "print(arr)"
   ]
  },
  {
   "cell_type": "markdown",
   "id": "42913d31",
   "metadata": {},
   "source": [
    "NumPy Array Indexing"
   ]
  },
  {
   "cell_type": "code",
   "execution_count": null,
   "id": "56959439",
   "metadata": {},
   "outputs": [
    {
     "name": "stdout",
     "output_type": "stream",
     "text": [
      "1\n",
      "i am arr2 [1 2 3 4 5]\n",
      "i am arr3 3\n",
      "i am arr4 11\n",
      "[[ 3  7]\n",
      " [11 15]]\n"
     ]
    }
   ],
   "source": [
    "# 1-d Array\n",
    "arr = np.array([1,2,3,4,5])\n",
    "print(arr[0])\n",
    "\n",
    "# 2-d Array\n",
    "arr = np.array([[1,2,3,4,5],[6,7,8,9,10]])\n",
    "print(\"i am arr2\",arr[0])\n",
    "\n",
    "arr = np.array([[1,2,3,4,5],[6,7,8,9,10]])\n",
    "print(\"i am arr3\",arr[0,2])\n",
    "\n",
    "# 3-d Array\n",
    "arr = np.array([[[1,2,3,4],[5,6,7,8]],[[9,10,11,12],[13,14,15,16]]])\n",
    "print(\"i am arr4\",arr[1,0,2])\n"
   ]
  },
  {
   "cell_type": "markdown",
   "id": "0f87d6c4",
   "metadata": {},
   "source": [
    "NumPy Array Slicing"
   ]
  },
  {
   "cell_type": "code",
   "execution_count": 43,
   "id": "46d592e6",
   "metadata": {},
   "outputs": [
    {
     "name": "stdout",
     "output_type": "stream",
     "text": [
      "[1 2 3]\n",
      "[1 2 3 4]\n",
      "[1 2 3 4]\n",
      "i am  [3 8]\n",
      "[10 14]\n"
     ]
    }
   ],
   "source": [
    "# 1-d Array\n",
    "arr = np.array([1,2,3,4,5])\n",
    "print(arr[:3])\n",
    "\n",
    "arr = np.array([1,2,3,4,5,6,7,8,9])\n",
    "print(arr[:-5])\n",
    "\n",
    "\n",
    "# 2-d Array\n",
    "arr = np.array([[1,2,3,4,5],[6,7,8,9,10]])\n",
    "print(arr[0,0:4])\n",
    "\n",
    "arr = np.array([[1, 2, 3, 4, 5], [6, 7, 8, 9, 10]])\n",
    "print(\"i am \",arr[0:2,2])\n",
    "\n",
    "\n",
    "# 3-d Array\n",
    "arr = np.array([[[1,2,3,4],[5,6,7,8]],[[9,10,11,12],[13,14,15,16]]])\n",
    "print(arr[1,:2,1])\n"
   ]
  }
 ],
 "metadata": {
  "kernelspec": {
   "display_name": ".venv",
   "language": "python",
   "name": "python3"
  },
  "language_info": {
   "codemirror_mode": {
    "name": "ipython",
    "version": 3
   },
   "file_extension": ".py",
   "mimetype": "text/x-python",
   "name": "python",
   "nbconvert_exporter": "python",
   "pygments_lexer": "ipython3",
   "version": "3.13.4"
  }
 },
 "nbformat": 4,
 "nbformat_minor": 5
}
