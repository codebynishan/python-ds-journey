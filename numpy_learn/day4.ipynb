{
 "cells": [
  {
   "cell_type": "code",
   "execution_count": 2,
   "id": "480692be",
   "metadata": {},
   "outputs": [],
   "source": [
    "import numpy as np"
   ]
  },
  {
   "cell_type": "markdown",
   "id": "375e8e74",
   "metadata": {},
   "source": [
    "create a 4*4 matrix where row is [1,2,3,4]\n"
   ]
  },
  {
   "cell_type": "code",
   "execution_count": 9,
   "id": "06c728cf",
   "metadata": {},
   "outputs": [
    {
     "name": "stdout",
     "output_type": "stream",
     "text": [
      "[[ 1  2  3  4]\n",
      " [ 5  6  7  8]\n",
      " [ 9 10 11 12]\n",
      " [13 14 15 16]]\n"
     ]
    }
   ],
   "source": [
    "arr = np.arange(1,17).reshape(4,4)\n",
    "print(arr)"
   ]
  },
  {
   "cell_type": "markdown",
   "id": "d07418a9",
   "metadata": {},
   "source": [
    "Given arr = np.array([[1, 2, 3], [4, 5, 6], [7, 8, 9]]), extract the sub-array [[2, 3], [5, 6]] using slicing."
   ]
  },
  {
   "cell_type": "code",
   "execution_count": 13,
   "id": "e1c13d0c",
   "metadata": {},
   "outputs": [
    {
     "name": "stdout",
     "output_type": "stream",
     "text": [
      "[[2 3]\n",
      " [5 6]]\n"
     ]
    }
   ],
   "source": [
    "arr = np.array([[1, 2, 3], [4, 5, 6], [7, 8, 9]])\n",
    "print(arr[:2,1:])"
   ]
  },
  {
   "cell_type": "markdown",
   "id": "9a8bc9f7",
   "metadata": {},
   "source": [
    "Convert an array [1.5, 2.5, 3.5] to integers without rounding (truncate decimals)."
   ]
  },
  {
   "cell_type": "code",
   "execution_count": 17,
   "id": "ac2a4534",
   "metadata": {},
   "outputs": [
    {
     "name": "stdout",
     "output_type": "stream",
     "text": [
      "[1 2 3]\n"
     ]
    }
   ],
   "source": [
    "arr =np.array([1.2,2.5,3.5])\n",
    "print(arr.astype('i'))"
   ]
  },
  {
   "cell_type": "markdown",
   "id": "c0db36db",
   "metadata": {},
   "source": [
    "Create a view of an array arr = np.array([10, 20, 30]) and modify the view. Show that the original array changes."
   ]
  },
  {
   "cell_type": "code",
   "execution_count": 19,
   "id": "f0f43def",
   "metadata": {},
   "outputs": [
    {
     "name": "stdout",
     "output_type": "stream",
     "text": [
      "[10 20 15]\n",
      "[10 20 15]\n"
     ]
    }
   ],
   "source": [
    "arr = np.array([10, 20, 30])\n",
    "newarr = arr.view()\n",
    "arr[2]=15\n",
    "print(newarr)\n",
    "print(arr)"
   ]
  },
  {
   "cell_type": "markdown",
   "id": "919bd8a2",
   "metadata": {},
   "source": [
    "Reshape a 1D array [1, 2, 3, 4, 5, 6, 7, 8] into a 3D array of shape (2, 2, 2)."
   ]
  },
  {
   "cell_type": "code",
   "execution_count": 21,
   "id": "d027f802",
   "metadata": {},
   "outputs": [
    {
     "name": "stdout",
     "output_type": "stream",
     "text": [
      "[[[1 2]\n",
      "  [3 4]]\n",
      "\n",
      " [[5 6]\n",
      "  [7 8]]]\n"
     ]
    }
   ],
   "source": [
    "arr = np.array([1,2,3,4,5,6,7,8])\n",
    "print(arr.reshape(2,2,2))"
   ]
  },
  {
   "cell_type": "markdown",
   "id": "f9cb77ab",
   "metadata": {},
   "source": [
    "Iterate over a 2D array [[1, 2], [3, 4]] and multiply each element by 2 without using loops."
   ]
  },
  {
   "cell_type": "code",
   "execution_count": 26,
   "id": "63bd301a",
   "metadata": {},
   "outputs": [
    {
     "name": "stdout",
     "output_type": "stream",
     "text": [
      "[[2 4]\n",
      " [6 8]]\n"
     ]
    }
   ],
   "source": [
    "arr = np.array([[1,2],[3,4]])\n",
    "mul = arr *2\n",
    "print(mul)"
   ]
  },
  {
   "cell_type": "markdown",
   "id": "7cbcd1f8",
   "metadata": {},
   "source": [
    "Stack two 1D arrays [1, 2, 3] and [4, 5, 6] column-wise to create a 2x3 matrix."
   ]
  },
  {
   "cell_type": "code",
   "execution_count": null,
   "id": "652b21ec",
   "metadata": {},
   "outputs": [
    {
     "name": "stdout",
     "output_type": "stream",
     "text": [
      "[[1 2 2]\n",
      " [4 5 6]]\n"
     ]
    }
   ],
   "source": [
    "arr1 = np.array([1,2,3])\n",
    "arr2 = np.array([4,5,6])\n",
    "newarr = np.vstack((arr1,arr2))\n",
    "print(newarr)"
   ]
  },
  {
   "cell_type": "markdown",
   "id": "9765417e",
   "metadata": {},
   "source": [
    "Split a 2D array [[1, 2, 3], [4, 5, 6], [7, 8, 9]] into 3 equal sub-arrays along rows."
   ]
  },
  {
   "cell_type": "code",
   "execution_count": 31,
   "id": "50a24d81",
   "metadata": {},
   "outputs": [
    {
     "name": "stdout",
     "output_type": "stream",
     "text": [
      "[array([[1, 2, 3]]), array([[4, 5, 6]]), array([[7, 8, 9]])]\n"
     ]
    }
   ],
   "source": [
    "arr = np.array([[1,2,3],[4,5,6],[7,8,9]])\n",
    "newarr = np.array_split(arr,3)\n",
    "print(newarr)"
   ]
  },
  {
   "cell_type": "markdown",
   "id": "b9c93219",
   "metadata": {},
   "source": [
    "Find all indices in the array [5, 10, 15, 20, 15, 10, 5] where elements are greater than 12."
   ]
  },
  {
   "cell_type": "code",
   "execution_count": 32,
   "id": "1085e786",
   "metadata": {},
   "outputs": [
    {
     "name": "stdout",
     "output_type": "stream",
     "text": [
      "(array([2, 3, 4]),)\n"
     ]
    }
   ],
   "source": [
    "arr = np.array([5, 10, 15, 20, 15, 10, 5])\n",
    "newarr =np.where(arr>12)\n",
    "print(newarr)\n"
   ]
  },
  {
   "cell_type": "markdown",
   "id": "d55e1bd5",
   "metadata": {},
   "source": [
    "Filter the array [1, 2, 3, 4, 5, 6] to return elements that are even or greater than 4."
   ]
  },
  {
   "cell_type": "code",
   "execution_count": 3,
   "id": "b2516781",
   "metadata": {},
   "outputs": [
    {
     "name": "stdout",
     "output_type": "stream",
     "text": [
      "[2 4 5 6]\n"
     ]
    }
   ],
   "source": [
    "arr = np.array([1, 2, 3, 4, 5, 6])\n",
    "\n",
    "result = arr[(arr%2==0)|(arr>4)]\n",
    "print(result)"
   ]
  },
  {
   "cell_type": "markdown",
   "id": "be9eeebd",
   "metadata": {},
   "source": [
    "Convert a 1D array of 12 elements into a 2x2x3 3D array."
   ]
  },
  {
   "cell_type": "code",
   "execution_count": 38,
   "id": "7423664a",
   "metadata": {},
   "outputs": [
    {
     "name": "stdout",
     "output_type": "stream",
     "text": [
      "[[[ 1  2  3]\n",
      "  [ 4  5  6]]\n",
      "\n",
      " [[ 7  8  9]\n",
      "  [10 11 12]]]\n"
     ]
    }
   ],
   "source": [
    "arr = np.arange(1,13)\n",
    "print(arr.reshape(2,2,3))"
   ]
  },
  {
   "cell_type": "markdown",
   "id": "3df74ddb",
   "metadata": {},
   "source": [
    "Replace all negative values in the array [-1, 2, -3, 4, -5] with 0."
   ]
  },
  {
   "cell_type": "code",
   "execution_count": 4,
   "id": "41717189",
   "metadata": {},
   "outputs": [
    {
     "name": "stdout",
     "output_type": "stream",
     "text": [
      "[[0 2 0 4 0]]\n"
     ]
    }
   ],
   "source": [
    "arr = np.array([[-1, 2, -3, 4, -5]])\n",
    "arr[arr<0]=0\n",
    "print(arr)"
   ]
  },
  {
   "cell_type": "markdown",
   "id": "6bc8b350",
   "metadata": {},
   "source": [
    "Reverse the rows of a 2D array [[1, 2, 3], [4, 5, 6], [7, 8, 9]].\n"
   ]
  },
  {
   "cell_type": "code",
   "execution_count": 5,
   "id": "1d867c40",
   "metadata": {},
   "outputs": [
    {
     "name": "stdout",
     "output_type": "stream",
     "text": [
      "[[7 8 9]\n",
      " [4 5 6]\n",
      " [1 2 3]]\n"
     ]
    }
   ],
   "source": [
    "arr = np.array([[1,2,3],[4,5,6],[7,8,9]])\n",
    "newarr=arr[::-1]\n",
    "print(newarr)\n"
   ]
  },
  {
   "cell_type": "markdown",
   "id": "a097c2d1",
   "metadata": {},
   "source": [
    "Create a structured array with fields name (string) and age (integer) for 3 people."
   ]
  },
  {
   "cell_type": "code",
   "execution_count": 7,
   "id": "3b8b7588",
   "metadata": {},
   "outputs": [
    {
     "name": "stdout",
     "output_type": "stream",
     "text": [
      "[('Nishan', 24) ('xatra', 25)]\n",
      "['Nishan' 'xatra']\n",
      "[24 25]\n"
     ]
    }
   ],
   "source": [
    "arr = np.dtype([('name','U20'),('age','i4')])\n",
    "newarr =np.array([('Nishan',24),('xatra',25)],dtype=arr)\n",
    "print(newarr)\n",
    "print(newarr['name'])\n",
    "print(newarr['age'])"
   ]
  },
  {
   "cell_type": "markdown",
   "id": "1376c576",
   "metadata": {},
   "source": [
    "Compute the dot product of matrices [[1, 2], [3, 4]] and [[5, 6], [7, 8]]."
   ]
  },
  {
   "cell_type": "code",
   "execution_count": null,
   "id": "20bf1a85",
   "metadata": {},
   "outputs": [
    {
     "name": "stdout",
     "output_type": "stream",
     "text": [
      "[[ 5 12]\n",
      " [21 32]]\n"
     ]
    }
   ],
   "source": [
    "arr1=np.array([[1, 2], [3, 4]])\n",
    "arr2 =np.array([[5, 6], [7, 8]])\n",
    "newarr=arr1*arr2\n",
    "print(newarr)"
   ]
  },
  {
   "cell_type": "markdown",
   "id": "7893fba7",
   "metadata": {},
   "source": [
    "Concatenate two arrays [[1, 2], [3, 4]] and [[5, 6]] vertically"
   ]
  },
  {
   "cell_type": "code",
   "execution_count": null,
   "id": "c3dd8b91",
   "metadata": {},
   "outputs": [
    {
     "name": "stdout",
     "output_type": "stream",
     "text": [
      "[[1 2]\n",
      " [3 4]\n",
      " [5 6]]\n"
     ]
    }
   ],
   "source": [
    "arr1 =np.array([[1,2],[3,4]])\n",
    "arr2 =np.array[[5,6]]\n",
    "newarr = np.concatenate((arr1,arr2),axis=0)\n",
    "print(newarr)"
   ]
  },
  {
   "cell_type": "markdown",
   "id": "6688d1ab",
   "metadata": {},
   "source": [
    "Find the unique rows in a 2D array [[1, 2], [3, 4], [1, 2], [5, 6]]."
   ]
  },
  {
   "cell_type": "code",
   "execution_count": 12,
   "id": "ff2b46b3",
   "metadata": {},
   "outputs": [
    {
     "name": "stdout",
     "output_type": "stream",
     "text": [
      "[[1 2]\n",
      " [3 4]\n",
      " [5 6]]\n"
     ]
    }
   ],
   "source": [
    "arr =np.array([[1, 2], [3, 4], [1, 2], [5, 6]])\n",
    "newarr = np.unique(arr,axis=0)\n",
    "print(newarr)"
   ]
  }
 ],
 "metadata": {
  "kernelspec": {
   "display_name": ".venv",
   "language": "python",
   "name": "python3"
  },
  "language_info": {
   "codemirror_mode": {
    "name": "ipython",
    "version": 3
   },
   "file_extension": ".py",
   "mimetype": "text/x-python",
   "name": "python",
   "nbconvert_exporter": "python",
   "pygments_lexer": "ipython3",
   "version": "3.13.4"
  }
 },
 "nbformat": 4,
 "nbformat_minor": 5
}
