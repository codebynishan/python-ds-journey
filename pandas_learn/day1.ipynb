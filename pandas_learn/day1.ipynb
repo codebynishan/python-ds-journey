{
 "cells": [
  {
   "cell_type": "markdown",
   "id": "a0f414fd",
   "metadata": {},
   "source": [
    "# Pandas"
   ]
  },
  {
   "cell_type": "code",
   "execution_count": 6,
   "id": "c19df7ae",
   "metadata": {},
   "outputs": [],
   "source": [
    "import pandas as pd\n"
   ]
  },
  {
   "cell_type": "markdown",
   "id": "1be3f765",
   "metadata": {},
   "source": [
    "## Series"
   ]
  },
  {
   "cell_type": "code",
   "execution_count": null,
   "id": "199606e6",
   "metadata": {},
   "outputs": [
    {
     "name": "stdout",
     "output_type": "stream",
     "text": [
      "0    10\n",
      "1    20\n",
      "2    30\n",
      "3    40\n",
      "4    50\n",
      "dtype: int64\n"
     ]
    }
   ],
   "source": [
    "\n",
    "data =[10,20,30,40,50]\n",
    "s = pd.Series(data)\n",
    "print(s)"
   ]
  },
  {
   "cell_type": "code",
   "execution_count": 11,
   "id": "0d1eec68",
   "metadata": {},
   "outputs": [
    {
     "name": "stdout",
     "output_type": "stream",
     "text": [
      "0    10\n",
      "1    20\n",
      "2    30\n",
      "3    40\n",
      "4    50\n",
      "dtype: int64\n",
      "RangeIndex(start=0, stop=5, step=1)\n",
      "[10 20 30 40 50]\n"
     ]
    }
   ],
   "source": [
    "array = ([10,20,30,40,50])\n",
    "a = pd.Series(array)\n",
    "print(a)\n",
    "print(a.index)\n",
    "print(a.values)\n"
   ]
  },
  {
   "cell_type": "code",
   "execution_count": 12,
   "id": "4f060cdc",
   "metadata": {},
   "outputs": [
    {
     "name": "stdout",
     "output_type": "stream",
     "text": [
      "ram         1\n",
      "a      nishan\n",
      "b         3.5\n",
      "c      school\n",
      "dtype: object\n"
     ]
    }
   ],
   "source": [
    "# using lebels\n",
    "\n",
    "data = pd.Series([1,\"nishan\",3.5,\"school\"],index=[\"ram\",\"a\",\"b\",\"c\"])\n",
    "print (data)"
   ]
  },
  {
   "cell_type": "code",
   "execution_count": null,
   "id": "73dc3654",
   "metadata": {},
   "outputs": [
    {
     "name": "stdout",
     "output_type": "stream",
     "text": [
      "jane    90.0\n",
      "bill    80.0\n",
      "elon    85.0\n",
      "tom     75.0\n",
      "tim     95.0\n",
      "gp       NaN\n",
      "dtype: float64\n"
     ]
    },
    {
     "data": {
      "text/plain": [
       "np.float64(90.0)"
      ]
     },
     "execution_count": 15,
     "metadata": {},
     "output_type": "execute_result"
    }
   ],
   "source": [
    "# creating using dict\n",
    "\n",
    "score ={\"jane\":90,\"bill\":80,\"elon\":85,\"tom\":75,\"tim\":95,\"gp\":None}\n",
    "names= pd.Series(score)\n",
    "print(names)\n",
    "\n",
    "names[\"jane\"]"
   ]
  },
  {
   "cell_type": "markdown",
   "id": "5e1441ce",
   "metadata": {},
   "source": [
    "## Boolean indexing"
   ]
  },
  {
   "cell_type": "code",
   "execution_count": 16,
   "id": "aa821fe6",
   "metadata": {},
   "outputs": [
    {
     "data": {
      "text/plain": [
       "jane    90.0\n",
       "elon    85.0\n",
       "tim     95.0\n",
       "dtype: float64"
      ]
     },
     "execution_count": 16,
     "metadata": {},
     "output_type": "execute_result"
    }
   ],
   "source": [
    "names[names>=85]"
   ]
  },
  {
   "cell_type": "markdown",
   "id": "9f0550e0",
   "metadata": {},
   "source": [
    "## Modifing values"
   ]
  },
  {
   "cell_type": "code",
   "execution_count": null,
   "id": "ad1976e8",
   "metadata": {},
   "outputs": [
    {
     "data": {
      "text/plain": [
       "jane    90.0\n",
       "bill    83.0\n",
       "elon    85.0\n",
       "tom     83.0\n",
       "tim     95.0\n",
       "gp       NaN\n",
       "dtype: float64"
      ]
     },
     "execution_count": 19,
     "metadata": {},
     "output_type": "execute_result"
    }
   ],
   "source": [
    "names[names <= 80]=83\n",
    "names"
   ]
  },
  {
   "cell_type": "markdown",
   "id": "fb0999cf",
   "metadata": {},
   "source": [
    "## checking membership"
   ]
  },
  {
   "cell_type": "code",
   "execution_count": null,
   "id": "8cdddd1c",
   "metadata": {},
   "outputs": [
    {
     "data": {
      "text/plain": [
       "False"
      ]
     },
     "execution_count": 21,
     "metadata": {},
     "output_type": "execute_result"
    }
   ],
   "source": [
    "\"tom\" in names\n",
    "\n",
    "\"can\" in names\n",
    "\n"
   ]
  },
  {
   "cell_type": "code",
   "execution_count": 22,
   "id": "48631e00",
   "metadata": {},
   "outputs": [
    {
     "name": "stdout",
     "output_type": "stream",
     "text": [
      "not in the list\n"
     ]
    }
   ],
   "source": [
    "if \"nishan\" in names:\n",
    "    print(\"say hello\")\n",
    "else:\n",
    "    print(\"not in the list\")"
   ]
  },
  {
   "cell_type": "markdown",
   "id": "accf7b51",
   "metadata": {},
   "source": [
    "## operation"
   ]
  },
  {
   "cell_type": "code",
   "execution_count": 46,
   "id": "b5ee2444",
   "metadata": {},
   "outputs": [
    {
     "data": {
      "text/plain": [
       "jane    9.0\n",
       "bill    8.3\n",
       "elon    8.5\n",
       "tom     8.3\n",
       "tim     9.5\n",
       "dtype: float64"
      ]
     },
     "execution_count": 46,
     "metadata": {},
     "output_type": "execute_result"
    }
   ],
   "source": [
    "names/10\n"
   ]
  },
  {
   "cell_type": "code",
   "execution_count": 24,
   "id": "d3827d4a",
   "metadata": {},
   "outputs": [
    {
     "data": {
      "text/plain": [
       "jane    8100.0\n",
       "bill    6889.0\n",
       "elon    7225.0\n",
       "tom     6889.0\n",
       "tim     9025.0\n",
       "gp         NaN\n",
       "dtype: float64"
      ]
     },
     "execution_count": 24,
     "metadata": {},
     "output_type": "execute_result"
    }
   ],
   "source": [
    "names ** 2"
   ]
  },
  {
   "cell_type": "code",
   "execution_count": 25,
   "id": "7379fc3b",
   "metadata": {},
   "outputs": [
    {
     "data": {
      "text/plain": [
       "jane     95.0\n",
       "bill     88.0\n",
       "elon     90.0\n",
       "tom      88.0\n",
       "tim     100.0\n",
       "gp        NaN\n",
       "dtype: float64"
      ]
     },
     "execution_count": 25,
     "metadata": {},
     "output_type": "execute_result"
    }
   ],
   "source": [
    "names + 5"
   ]
  },
  {
   "cell_type": "markdown",
   "id": "a313d760",
   "metadata": {},
   "source": [
    "## handling missing data"
   ]
  },
  {
   "cell_type": "code",
   "execution_count": null,
   "id": "b4566db5",
   "metadata": {},
   "outputs": [
    {
     "data": {
      "text/plain": [
       "jane    False\n",
       "bill    False\n",
       "elon    False\n",
       "tom     False\n",
       "tim     False\n",
       "gp       True\n",
       "dtype: bool"
      ]
     },
     "execution_count": 32,
     "metadata": {},
     "output_type": "execute_result"
    }
   ],
   "source": [
    "data = pd.Series([1,2,None,4,5])\n",
    "data.mean(skipna=True)\n",
    "\n",
    "names.isnull()\n"
   ]
  },
  {
   "cell_type": "code",
   "execution_count": 33,
   "id": "86e9f1d0",
   "metadata": {},
   "outputs": [
    {
     "data": {
      "text/plain": [
       "jane    False\n",
       "bill    False\n",
       "elon    False\n",
       "tom     False\n",
       "tim     False\n",
       "gp       True\n",
       "dtype: bool"
      ]
     },
     "execution_count": 33,
     "metadata": {},
     "output_type": "execute_result"
    }
   ],
   "source": [
    "names.isna()"
   ]
  },
  {
   "cell_type": "code",
   "execution_count": 34,
   "id": "90b417d7",
   "metadata": {},
   "outputs": [
    {
     "data": {
      "text/plain": [
       "np.True_"
      ]
     },
     "execution_count": 34,
     "metadata": {},
     "output_type": "execute_result"
    }
   ],
   "source": [
    "names.isna().any()"
   ]
  },
  {
   "cell_type": "code",
   "execution_count": 35,
   "id": "2c9541a2",
   "metadata": {},
   "outputs": [
    {
     "data": {
      "text/plain": [
       "np.True_"
      ]
     },
     "execution_count": 35,
     "metadata": {},
     "output_type": "execute_result"
    }
   ],
   "source": [
    "names.isnull().any()"
   ]
  },
  {
   "cell_type": "code",
   "execution_count": 38,
   "id": "b4021ace",
   "metadata": {},
   "outputs": [
    {
     "data": {
      "text/plain": [
       "jane    90.0\n",
       "bill    83.0\n",
       "elon    85.0\n",
       "tom     83.0\n",
       "tim     95.0\n",
       "dtype: float64"
      ]
     },
     "execution_count": 38,
     "metadata": {},
     "output_type": "execute_result"
    }
   ],
   "source": [
    "names.dropna()"
   ]
  },
  {
   "cell_type": "code",
   "execution_count": 39,
   "id": "c3a8723f",
   "metadata": {},
   "outputs": [
    {
     "data": {
      "text/plain": [
       "jane    90.0\n",
       "bill    83.0\n",
       "elon    85.0\n",
       "tom     83.0\n",
       "tim     95.0\n",
       "dtype: float64"
      ]
     },
     "execution_count": 39,
     "metadata": {},
     "output_type": "execute_result"
    }
   ],
   "source": [
    "names"
   ]
  },
  {
   "cell_type": "code",
   "execution_count": 37,
   "id": "a6e62d94",
   "metadata": {},
   "outputs": [
    {
     "data": {
      "text/plain": [
       "jane    90.0\n",
       "bill    83.0\n",
       "elon    85.0\n",
       "tom     83.0\n",
       "tim     95.0\n",
       "dtype: float64"
      ]
     },
     "execution_count": 37,
     "metadata": {},
     "output_type": "execute_result"
    }
   ],
   "source": [
    "names.dropna(inplace = True)\n",
    "names"
   ]
  },
  {
   "cell_type": "code",
   "execution_count": null,
   "id": "2238d8f9",
   "metadata": {},
   "outputs": [
    {
     "data": {
      "text/plain": [
       "jane    90.0\n",
       "bill    83.0\n",
       "elon    85.0\n",
       "tom     83.0\n",
       "tim     95.0\n",
       "dtype: float64"
      ]
     },
     "execution_count": 41,
     "metadata": {},
     "output_type": "execute_result"
    }
   ],
   "source": [
    "names.fillna(10,inplace = True)\n"
   ]
  },
  {
   "cell_type": "code",
   "execution_count": 42,
   "id": "dcd204ab",
   "metadata": {},
   "outputs": [
    {
     "data": {
      "text/plain": [
       "jane    90.0\n",
       "bill    83.0\n",
       "elon    85.0\n",
       "tom     83.0\n",
       "tim     95.0\n",
       "dtype: float64"
      ]
     },
     "execution_count": 42,
     "metadata": {},
     "output_type": "execute_result"
    }
   ],
   "source": [
    "names"
   ]
  },
  {
   "cell_type": "markdown",
   "id": "e9165c3d",
   "metadata": {},
   "source": [
    "## Data Frame"
   ]
  },
  {
   "cell_type": "code",
   "execution_count": 48,
   "id": "5ab90fc8",
   "metadata": {},
   "outputs": [
    {
     "data": {
      "text/html": [
       "<div>\n",
       "<style scoped>\n",
       "    .dataframe tbody tr th:only-of-type {\n",
       "        vertical-align: middle;\n",
       "    }\n",
       "\n",
       "    .dataframe tbody tr th {\n",
       "        vertical-align: top;\n",
       "    }\n",
       "\n",
       "    .dataframe thead th {\n",
       "        text-align: right;\n",
       "    }\n",
       "</style>\n",
       "<table border=\"1\" class=\"dataframe\">\n",
       "  <thead>\n",
       "    <tr style=\"text-align: right;\">\n",
       "      <th></th>\n",
       "      <th>name</th>\n",
       "      <th>score</th>\n",
       "      <th>sport</th>\n",
       "      <th>gender</th>\n",
       "    </tr>\n",
       "  </thead>\n",
       "  <tbody>\n",
       "    <tr>\n",
       "      <th>0</th>\n",
       "      <td>Bill</td>\n",
       "      <td>90</td>\n",
       "      <td>wersling</td>\n",
       "      <td>M</td>\n",
       "    </tr>\n",
       "    <tr>\n",
       "      <th>1</th>\n",
       "      <td>Tom</td>\n",
       "      <td>80</td>\n",
       "      <td>football</td>\n",
       "      <td>M</td>\n",
       "    </tr>\n",
       "    <tr>\n",
       "      <th>2</th>\n",
       "      <td>Tim</td>\n",
       "      <td>85</td>\n",
       "      <td>skiing</td>\n",
       "      <td>M</td>\n",
       "    </tr>\n",
       "    <tr>\n",
       "      <th>3</th>\n",
       "      <td>John</td>\n",
       "      <td>75</td>\n",
       "      <td>swimming</td>\n",
       "      <td>F</td>\n",
       "    </tr>\n",
       "    <tr>\n",
       "      <th>4</th>\n",
       "      <td>Alex</td>\n",
       "      <td>95</td>\n",
       "      <td>tennis</td>\n",
       "      <td>M</td>\n",
       "    </tr>\n",
       "    <tr>\n",
       "      <th>5</th>\n",
       "      <td>Vanessa</td>\n",
       "      <td>60</td>\n",
       "      <td>kerate</td>\n",
       "      <td>M</td>\n",
       "    </tr>\n",
       "    <tr>\n",
       "      <th>6</th>\n",
       "      <td>Kate</td>\n",
       "      <td>65</td>\n",
       "      <td>surfing</td>\n",
       "      <td>M</td>\n",
       "    </tr>\n",
       "  </tbody>\n",
       "</table>\n",
       "</div>"
      ],
      "text/plain": [
       "      name  score     sport gender\n",
       "0     Bill     90  wersling      M\n",
       "1      Tom     80  football      M\n",
       "2      Tim     85    skiing      M\n",
       "3     John     75  swimming      F\n",
       "4     Alex     95    tennis      M\n",
       "5  Vanessa     60    kerate      M\n",
       "6     Kate     65   surfing      M"
      ]
     },
     "execution_count": 48,
     "metadata": {},
     "output_type": "execute_result"
    }
   ],
   "source": [
    "data ={\n",
    "    \"name\":[\"Bill\",\"Tom\",\"Tim\",\"John\",\"Alex\",\"Vanessa\",\"Kate\"],\n",
    "    \"score\":[90,80,85,75,95,60,65],\n",
    "    \"sport\":[\"wersling\",\"football\",\"skiing\",\"swimming\",\"tennis\",\"kerate\",\"surfing\"],\n",
    "    \"gender\":[\"M\",\"M\",\"M\",\"F\",\"M\",\"M\",\"M\"]\n",
    "}\n",
    "df =pd.DataFrame(data)\n",
    "df"
   ]
  }
 ],
 "metadata": {
  "kernelspec": {
   "display_name": "numpy_learn",
   "language": "python",
   "name": "python3"
  },
  "language_info": {
   "codemirror_mode": {
    "name": "ipython",
    "version": 3
   },
   "file_extension": ".py",
   "mimetype": "text/x-python",
   "name": "python",
   "nbconvert_exporter": "python",
   "pygments_lexer": "ipython3",
   "version": "3.13.4"
  }
 },
 "nbformat": 4,
 "nbformat_minor": 5
}
