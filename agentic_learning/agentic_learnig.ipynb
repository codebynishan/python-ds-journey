{
 "cells": [
  {
   "cell_type": "code",
   "execution_count": 1,
   "id": "d0c0311e",
   "metadata": {},
   "outputs": [],
   "source": [
    "from groq import Groq"
   ]
  },
  {
   "cell_type": "code",
   "execution_count": 2,
   "id": "51ac0eb4",
   "metadata": {},
   "outputs": [],
   "source": [
    "from dotenv import load_dotenv"
   ]
  },
  {
   "cell_type": "code",
   "execution_count": 3,
   "id": "b2b7a6dd",
   "metadata": {},
   "outputs": [],
   "source": [
    "import os"
   ]
  },
  {
   "cell_type": "code",
   "execution_count": null,
   "id": "4b14f42d",
   "metadata": {},
   "outputs": [],
   "source": [
    " # This is very very bad\n",
    "# os load_env(terminal export key,load env use,dotenv(.env file read secrets/ credencial))\n",
    "load_dotenv()\n",
    "\n",
    "api key\n"
   ]
  },
  {
   "cell_type": "code",
   "execution_count": 8,
   "id": "b3fb189d",
   "metadata": {},
   "outputs": [
    {
     "name": "stdout",
     "output_type": "stream",
     "text": [
      "<think>\n",
      "Okay, so I need to figure out who the richest actor in Asia is. Hmm, I remember hearing about some really wealthy actors from countries like India, China, and maybe even Japan or Korea. Let me think about this step by step.\n",
      "\n",
      "First, I know that Bollywood is a huge film industry, so maybe some Indian actors are up there. I've heard of Shah Rukh Khan being called the \"King of Bollywood.\" I think he's been in a lot of movies and has a massive fan base. He might have endorsement deals and other business ventures, which would add to his wealth.\n",
      "\n",
      "Then there's Salman Khan. He's another big name in Bollywood. I believe he's involved in producing films and has his own production company. Plus, he's been acting for a long time, so he must have accumulated a lot of money. He also does concerts and tours, which probably bring in a good income.\n",
      "\n",
      "Amitabh Bachchan is a legend in Indian cinema. He's been active for decades, so he must have a significant net worth. He's also done endorsements and has been involved in politics, which might contribute to his wealth.\n",
      "\n",
      "Looking beyond India, I'm not as sure about other Asian countries. I know that in China, there are some big stars, but I'm not sure how their earnings compare. Maybe someone like Jackie Chan, but I think he's more of a global star and might not be the richest now. He's also involved in a lot of philanthropy, which might affect his net worth.\n",
      "\n",
      "In terms of current actors, maybe someone from South India, like Rajinikanth. He's a huge star in Tamil cinema and has a massive following. I think he's been in the industry for a long time and has probably earned a lot from films and endorsements.\n",
      "\n",
      "I should also consider other revenue sources. Actors often make money from endorsements, producing films, and even owning sports teams or other businesses. For example, Shah Rukh Khan owns a stake in the Kolkata Knight Riders cricket team, which is part of the Indian Premier League. That must bring in a lot of money.\n",
      "\n",
      "I also wonder about the net worth figures. I think Shah Rukh Khan's net worth is estimated to be around $600 million or more. Salman Khan might be in a similar range. Amitabh Bachchan is also wealthy, but I'm not sure if he's the richest. Rajinikanth's net worth is significant,\n"
     ]
    }
   ],
   "source": [
    "system_prompt={\n",
    "    \"role\":\"system\",\n",
    "    \"content\":\"\"\"You are a hilarious film critic and storyteller named Great flim maker.\n",
    "    created by the genius director Mr. Nishan Rana, whose filmmaking powers are reshaping the entire universe of cinema. \n",
    "    Whatever the user asks you whether about movies, actors you must reply like a dramatic Bollywood narrator mixed with a sarcastic Hollywood critic.\n",
    "    Use jokes, exaggerations, and dramatic flair to make every answer feel like a blockbuster movie trailer.\"\"\"\n",
    "}\n",
    "\n",
    "user_prompt ={\n",
    "    \"role\":\"user\",\n",
    "    \"content\":\"can you tell who is the richest actor in asia\"\n",
    "}\n",
    "response = client.chat.completions.create(\n",
    "    model=\"deepseek-r1-distill-llama-70b\",\n",
    "    messages=[system_prompt,user_prompt],\n",
    "    max_tokens=500, #context window length or token limit\n",
    "    temperature=0.7\n",
    ")\n",
    "result = response.choices[0].message.content\n",
    "print(result)"
   ]
  }
 ],
 "metadata": {
  "kernelspec": {
   "display_name": "numpy_learn",
   "language": "python",
   "name": "python3"
  },
  "language_info": {
   "codemirror_mode": {
    "name": "ipython",
    "version": 3
   },
   "file_extension": ".py",
   "mimetype": "text/x-python",
   "name": "python",
   "nbconvert_exporter": "python",
   "pygments_lexer": "ipython3",
   "version": "3.13.4"
  }
 },
 "nbformat": 4,
 "nbformat_minor": 5
}
